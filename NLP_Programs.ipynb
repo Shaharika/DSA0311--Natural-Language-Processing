{
  "nbformat": 4,
  "nbformat_minor": 0,
  "metadata": {
    "colab": {
      "provenance": [],
      "authorship_tag": "ABX9TyN2AGZK3iRCa3+Pvroh7tij",
      "include_colab_link": true
    },
    "kernelspec": {
      "name": "python3",
      "display_name": "Python 3"
    },
    "language_info": {
      "name": "python"
    }
  },
  "cells": [
    {
      "cell_type": "markdown",
      "metadata": {
        "id": "view-in-github",
        "colab_type": "text"
      },
      "source": [
        "<a href=\"https://colab.research.google.com/github/Shaharika/DSA0311--Natural-Language-Processing/blob/main/NLP_Programs.ipynb\" target=\"_parent\"><img src=\"https://colab.research.google.com/assets/colab-badge.svg\" alt=\"Open In Colab\"/></a>"
      ]
    },
    {
      "cell_type": "markdown",
      "source": [
        "1. Write program demonstrates how to use regular expressions in Python to match and search for patterns in text."
      ],
      "metadata": {
        "id": "nvrdrafQH92b"
      }
    },
    {
      "cell_type": "code",
      "source": [
        "import re\n",
        "\n",
        "def find_emails(text):\n",
        "    # Define a simple regular expression for matching email addresses\n",
        "    email_pattern = r'\\b[A-Za-z0-9._%+-]+@[A-Za-z0-9.-]+\\.[A-Z|a-z]{2,}\\b'\n",
        "\n",
        "    # Use re.findall to find all matches in the text\n",
        "    matches = re.findall(email_pattern, text)\n",
        "\n",
        "    return matches\n",
        "\n",
        "# Example text containing email addresses\n",
        "sample_text = \"Contact us at info@example.com or support@company.com for assistance.\"\n",
        "\n",
        "# Find and print all email addresses in the text\n",
        "email_addresses = find_emails(sample_text)\n",
        "print(\"Email Addresses Found:\")\n",
        "print(email_addresses)"
      ],
      "metadata": {
        "colab": {
          "base_uri": "https://localhost:8080/"
        },
        "id": "CevmaxmdIUpD",
        "outputId": "a847a2ea-9abe-4777-e7fa-3846e515fe9a"
      },
      "execution_count": null,
      "outputs": [
        {
          "output_type": "stream",
          "name": "stdout",
          "text": [
            "Email Addresses Found:\n",
            "['info@example.com', 'support@company.com']\n"
          ]
        }
      ]
    },
    {
      "cell_type": "markdown",
      "source": [
        "2. Implement a basic finite state automaton that recognizes a specific language or pattern. In this example, we'll create a simple automaton to match strings ending with 'ab' using python."
      ],
      "metadata": {
        "id": "-fonIsYxIe06"
      }
    },
    {
      "cell_type": "code",
      "source": [
        "def is_match(input_string):\n",
        "    # Define the finite state automaton transitions\n",
        "    transitions = {\n",
        "        0: {'a': 1, 'b': 0},\n",
        "        1: {'a': 1, 'b': 2},\n",
        "        2: {'a': 1, 'b': 0}\n",
        "    }\n",
        "    current_state = 0\n",
        "    # Process each character in the input string\n",
        "    for char in input_string:\n",
        "        if char in transitions[current_state]:\n",
        "            current_state = transitions[current_state][char]\n",
        "        else:\n",
        "            # If there is no transition for the current character, reset to the initial state\n",
        "            current_state = 0\n",
        "    # Check if the final state is reached\n",
        "    return current_state == 2\n",
        "# Test the automaton with various strings\n",
        "test_strings = [\"ab\", \"aab\", \"aaaab\", \"abc\", \"xyzab\", \"abab\", \"ba\"]\n",
        "for test_string in test_strings:\n",
        "    if is_match(test_string):\n",
        "        print(f\"'{test_string}' matches the pattern.\")\n",
        "    else:\n",
        "        print(f\"'{test_string}' does not match the pattern.\")"
      ],
      "metadata": {
        "colab": {
          "base_uri": "https://localhost:8080/"
        },
        "id": "6_rLMiJfImUM",
        "outputId": "b62f210b-3f42-4950-a9d9-cc2673462d5f"
      },
      "execution_count": null,
      "outputs": [
        {
          "output_type": "stream",
          "name": "stdout",
          "text": [
            "'ab' matches the pattern.\n",
            "'aab' matches the pattern.\n",
            "'aaaab' matches the pattern.\n",
            "'abc' does not match the pattern.\n",
            "'xyzab' matches the pattern.\n",
            "'abab' matches the pattern.\n",
            "'ba' does not match the pattern.\n"
          ]
        }
      ]
    },
    {
      "cell_type": "markdown",
      "source": [
        "3. Write program demonstrates how to perform morphological analysis using the NLTK library in Python."
      ],
      "metadata": {
        "id": "ZAbuNZkpIpiQ"
      }
    },
    {
      "cell_type": "code",
      "source": [
        "import nltk\n",
        "from nltk.stem import PorterStemmer\n",
        "\n",
        "nltk.download('punkt')  # Download the punkt tokenizer if not already downloaded\n",
        "\n",
        "def perform_morphological_analysis(text):\n",
        "    # Tokenize the input text into words\n",
        "    words = nltk.word_tokenize(text)\n",
        "\n",
        "    # Create a Porter stemmer object\n",
        "    porter_stemmer = PorterStemmer()\n",
        "\n",
        "    # Perform stemming on each word\n",
        "    stemmed_words = [porter_stemmer.stem(word) for word in words]\n",
        "\n",
        "    return stemmed_words\n",
        "\n",
        "if __name__ == \"__main__\":\n",
        "    # Example text for morphological analysis\n",
        "    input_text = \"The quick brown foxes are jumping over the lazy dogs\"\n",
        "\n",
        "    # Perform morphological analysis (stemming)\n",
        "    result = perform_morphological_analysis(input_text)\n",
        "\n",
        "    # Display the original and stemmed words\n",
        "    print(\"Original words:\", nltk.word_tokenize(input_text))\n",
        "    print(\"Stemmed words:\", result)"
      ],
      "metadata": {
        "colab": {
          "base_uri": "https://localhost:8080/"
        },
        "id": "9x27Kp3MIvGL",
        "outputId": "179d6a34-0056-4db0-aba4-ec1c81b8bc86"
      },
      "execution_count": null,
      "outputs": [
        {
          "output_type": "stream",
          "name": "stderr",
          "text": [
            "[nltk_data] Downloading package punkt to /root/nltk_data...\n",
            "[nltk_data]   Unzipping tokenizers/punkt.zip.\n"
          ]
        },
        {
          "output_type": "stream",
          "name": "stdout",
          "text": [
            "Original words: ['The', 'quick', 'brown', 'foxes', 'are', 'jumping', 'over', 'the', 'lazy', 'dogs']\n",
            "Stemmed words: ['the', 'quick', 'brown', 'fox', 'are', 'jump', 'over', 'the', 'lazi', 'dog']\n"
          ]
        }
      ]
    },
    {
      "cell_type": "markdown",
      "source": [
        "4. Implement a finite-state machine for morphological parsing. In this example, we'll create a simple machine to generate plural forms of English nouns using python."
      ],
      "metadata": {
        "id": "cC6IOzF_I4Ik"
      }
    },
    {
      "cell_type": "code",
      "source": [
        "import nltk\n",
        "nltk.download('averaged_perceptron_tagger')\n",
        "from nltk import pos_tag, word_tokenize\n",
        "def identify_nouns(sentence):\n",
        "    words = word_tokenize(sentence)\n",
        "    tagged_words = pos_tag(words)\n",
        "    print(tagged_words)\n",
        "\n",
        "    nouns = [word for word, pos in tagged_words if pos.startswith('NN')]\n",
        "\n",
        "    return nouns\n",
        "\n",
        "sentence = \"The quick brown fox jumps over the lazy dog.\"\n",
        "\n",
        "nouns = identify_nouns(sentence)\n",
        "\n",
        "if nouns:\n",
        "    print(\"Nouns identified in the sentence:\")\n",
        "    for noun in nouns:\n",
        "        if noun[-1].lower() in {'s', 'x', 'z'} or noun[-2:].lower() in {'ch', 'sh'}:\n",
        "            print(noun+\"es\")\n",
        "        else:\n",
        "            print(noun+\"s\")\n",
        "else:\n",
        "    print(\"No nouns found in the sentence.\")"
      ],
      "metadata": {
        "colab": {
          "base_uri": "https://localhost:8080/"
        },
        "id": "SZOA_DyVI86O",
        "outputId": "7491e132-09ec-4d06-ec31-7787b3d15b77"
      },
      "execution_count": null,
      "outputs": [
        {
          "output_type": "stream",
          "name": "stderr",
          "text": [
            "[nltk_data] Downloading package averaged_perceptron_tagger to\n",
            "[nltk_data]     /root/nltk_data...\n",
            "[nltk_data]   Unzipping taggers/averaged_perceptron_tagger.zip.\n"
          ]
        },
        {
          "output_type": "stream",
          "name": "stdout",
          "text": [
            "[('The', 'DT'), ('quick', 'JJ'), ('brown', 'NN'), ('fox', 'NN'), ('jumps', 'VBZ'), ('over', 'IN'), ('the', 'DT'), ('lazy', 'JJ'), ('dog', 'NN'), ('.', '.')]\n",
            "Nouns identified in the sentence:\n",
            "browns\n",
            "foxes\n",
            "dogs\n"
          ]
        }
      ]
    },
    {
      "cell_type": "markdown",
      "source": [
        "5. Use the Porter Stemmer algorithm to perform word stemming on a list of words using python libraries."
      ],
      "metadata": {
        "id": "qABzsqExJBjR"
      }
    },
    {
      "cell_type": "code",
      "source": [
        "from nltk.stem import PorterStemmer\n",
        "def perform_stemming(words):\n",
        "    # Initialize the Porter Stemmer\n",
        "    porter_stemmer = PorterStemmer()\n",
        "    # Perform stemming for each word\n",
        "    stemmed_words = [porter_stemmer.stem(word) for word in words]\n",
        "    return stemmed_words\n",
        "\n",
        "words_to_stem = [\"running\", \"jumps\", \"happily\", \"dogs\", \"cats\", \"better\"]\n",
        "\n",
        "stemmed_words = perform_stemming(words_to_stem)\n",
        "\n",
        "print(\"Original Words:\", words_to_stem)\n",
        "print(\"Stemmed Words:\", stemmed_words)"
      ],
      "metadata": {
        "colab": {
          "base_uri": "https://localhost:8080/"
        },
        "id": "zslL-b1FJGUC",
        "outputId": "07865f23-5879-486d-ee7f-c8f34089295e"
      },
      "execution_count": null,
      "outputs": [
        {
          "output_type": "stream",
          "name": "stdout",
          "text": [
            "Original Words: ['running', 'jumps', 'happily', 'dogs', 'cats', 'better']\n",
            "Stemmed Words: ['run', 'jump', 'happili', 'dog', 'cat', 'better']\n"
          ]
        }
      ]
    },
    {
      "cell_type": "markdown",
      "source": [
        "6. Implement a basic N-gram model for text generation. For example, generate text using a bigram model using python."
      ],
      "metadata": {
        "id": "ukedbR0qJg3a"
      }
    },
    {
      "cell_type": "code",
      "source": [
        "import random\n",
        "\n",
        "def build_bigram_model(sentences):\n",
        "    bigram_model = {}\n",
        "\n",
        "    for sentence in sentences:\n",
        "        tokens = sentence.split()\n",
        "        for i in range(len(tokens) - 1):\n",
        "            current_word = tokens[i]\n",
        "            next_word = tokens[i + 1]\n",
        "\n",
        "            if current_word in bigram_model:\n",
        "\n",
        "                bigram_model[current_word].append(next_word)\n",
        "            else:\n",
        "                bigram_model[current_word] = [next_word]\n",
        "\n",
        "    return bigram_model\n",
        "\n",
        "def generate_text(bigram_model, start_word, length=10):\n",
        "    generated_text = [start_word]\n",
        "\n",
        "    for _ in range(length - 1):\n",
        "        if start_word in bigram_model:\n",
        "            next_word = random.choice(bigram_model[start_word])\n",
        "            generated_text.append(next_word)\n",
        "            start_word = next_word\n",
        "        else:\n",
        "            break\n",
        "\n",
        "    return ' '.join(generated_text)\n",
        "\n",
        "# Example list of sentences\n",
        "sentences = [\n",
        "    \"I love programming in Python.\",\n",
        "    \"Python is a versatile programming language.\",\n",
        "    \"Text generation using bigram models is interesting.\",\n",
        "    \"Natural Language Processing involves analyzing and generating text.\"\n",
        "]\n",
        "\n",
        "# Build bigram model\n",
        "bigram_model = build_bigram_model(sentences)\n",
        "print(bigram_model)\n",
        "\n",
        "# Generate text using bigram model\n",
        "generated_text = generate_text(bigram_model, start_word=\"I\", length=8)\n",
        "\n",
        "# Display the results\n",
        "print(\"Generated Text:\", generated_text)"
      ],
      "metadata": {
        "colab": {
          "base_uri": "https://localhost:8080/"
        },
        "id": "7Mio_T94JkUr",
        "outputId": "e4584dd9-1650-47ca-8700-c24d53bc64cb"
      },
      "execution_count": null,
      "outputs": [
        {
          "output_type": "stream",
          "name": "stdout",
          "text": [
            "{'I': ['love'], 'love': ['programming'], 'programming': ['in', 'language.'], 'in': ['Python.'], 'Python': ['is'], 'is': ['a', 'interesting.'], 'a': ['versatile'], 'versatile': ['programming'], 'Text': ['generation'], 'generation': ['using'], 'using': ['bigram'], 'bigram': ['models'], 'models': ['is'], 'Natural': ['Language'], 'Language': ['Processing'], 'Processing': ['involves'], 'involves': ['analyzing'], 'analyzing': ['and'], 'and': ['generating'], 'generating': ['text.']}\n",
            "Generated Text: I love programming language.\n"
          ]
        }
      ]
    },
    {
      "cell_type": "markdown",
      "source": [
        "7. Write program using the NLTK library to perform part-of-speech tagging on a text."
      ],
      "metadata": {
        "id": "rB01XQ5EKHQK"
      }
    },
    {
      "cell_type": "code",
      "source": [
        "import nltk\n",
        "from nltk import pos_tag, word_tokenize\n",
        "def perform_pos_tagging(text):\n",
        "    # Tokenize the text into words\n",
        "    words = word_tokenize(text)\n",
        "    # Perform part-of-speech tagging\n",
        "    tagged_words = pos_tag(words)\n",
        "    return tagged_words\n",
        "# Example text\n",
        "text = \"NLTK is a powerful library for natural language processing.\"\n",
        "# Perform part-of-speech tagging\n",
        "tagged_words = perform_pos_tagging(text)\n",
        "\n",
        "print(\"Original Text:\", text)\n",
        "print(\"Part-of-Speech Tagging Result:\", tagged_words)"
      ],
      "metadata": {
        "colab": {
          "base_uri": "https://localhost:8080/"
        },
        "id": "RGrzK-XUKLnb",
        "outputId": "59858c7c-c3fd-493c-9cfb-58b54b24b986"
      },
      "execution_count": null,
      "outputs": [
        {
          "output_type": "stream",
          "name": "stdout",
          "text": [
            "Original Text: NLTK is a powerful library for natural language processing.\n",
            "Part-of-Speech Tagging Result: [('NLTK', 'NNP'), ('is', 'VBZ'), ('a', 'DT'), ('powerful', 'JJ'), ('library', 'NN'), ('for', 'IN'), ('natural', 'JJ'), ('language', 'NN'), ('processing', 'NN'), ('.', '.')]\n"
          ]
        }
      ]
    },
    {
      "cell_type": "markdown",
      "source": [
        "8. Implement a simple stochastic part-of-speech tagging algorithm using a basic probabilistic model to assign POS tags using python."
      ],
      "metadata": {
        "id": "eZJjpM9sqyEd"
      }
    },
    {
      "cell_type": "code",
      "source": [
        "import random\n",
        "\n",
        "def train_unigram_model(tagged_corpus):\n",
        "    unigram_model = {}\n",
        "\n",
        "    for sentence in tagged_corpus:\n",
        "        for word, pos_tag in sentence:\n",
        "            if word in unigram_model:\n",
        "                unigram_model[word].append(pos_tag)\n",
        "            else:\n",
        "                unigram_model[word] = [pos_tag]\n",
        "\n",
        "    return unigram_model\n",
        "\n",
        "def stochastic_pos_tagging(sentence, unigram_model):\n",
        "    tagged_sentence = []\n",
        "\n",
        "    for word in sentence:\n",
        "        if word in unigram_model:\n",
        "            pos_tag = random.choice(unigram_model[word])\n",
        "        else:\n",
        "            # If word not in model, assign a default POS tag (e.g., 'NOUN')\n",
        "            pos_tag = 'NOUN'\n",
        "\n",
        "        tagged_sentence.append((word, pos_tag))\n",
        "\n",
        "    return tagged_sentence\n",
        "\n",
        "# Example tagged corpus for training\n",
        "tagged_corpus = [\n",
        "    [('The', 'DET'), ('quick', 'ADJ'), ('brown', 'ADJ'), ('fox', 'NOUN')],\n",
        "    [('Jumped', 'VERB'), ('over', 'PREP'), ('the', 'DET'), ('lazy', 'ADJ'), ('dog', 'NOUN')]\n",
        "]\n",
        "\n",
        "# Train unigram model\n",
        "unigram_model = train_unigram_model(tagged_corpus)\n",
        "\n",
        "# Example sentence for stochastic POS tagging\n",
        "sentence_to_tag = ['The', 'lazy', 'fox', 'jumped']\n",
        "\n",
        "# Perform stochastic POS tagging\n",
        "tagged_sentence = stochastic_pos_tagging(sentence_to_tag, unigram_model)\n",
        "\n",
        "# Display the results\n",
        "print(\"Original Sentence:\", sentence_to_tag)\n",
        "print(\"Stochastic POS Tagging Result:\", tagged_sentence)"
      ],
      "metadata": {
        "id": "I3V0ZujRrFBM",
        "outputId": "019deefc-5350-4889-ed70-46dd421c1dc9",
        "colab": {
          "base_uri": "https://localhost:8080/"
        }
      },
      "execution_count": null,
      "outputs": [
        {
          "output_type": "stream",
          "name": "stdout",
          "text": [
            "Original Sentence: ['The', 'lazy', 'fox', 'jumped']\n",
            "Stochastic POS Tagging Result: [('The', 'DET'), ('lazy', 'ADJ'), ('fox', 'NOUN'), ('jumped', 'NOUN')]\n"
          ]
        }
      ]
    },
    {
      "cell_type": "markdown",
      "source": [
        "9. Implement a rule-based part-of-speech tagging system using regular expressions using python."
      ],
      "metadata": {
        "id": "kc3OwijtrjFM"
      }
    },
    {
      "cell_type": "code",
      "source": [
        "import re\n",
        "def rule_based_pos_tagging(sentence):\n",
        "    tagged_sentence = []\n",
        "    for word in sentence:\n",
        "        if re.match(r'\\b(?:is|am|are|was|were)\\b', word, re.IGNORECASE):\n",
        "            pos_tag = 'VERB'\n",
        "        elif re.match(r'\\b(?:the|a|an)\\b', word, re.IGNORECASE):\n",
        "            pos_tag = 'DET'\n",
        "        elif re.match(r'\\b(?:quick|brown|lazy)\\b', word, re.IGNORECASE):\n",
        "            pos_tag = 'ADJ'\n",
        "        else:\n",
        "            pos_tag = 'NOUN'\n",
        "\n",
        "        tagged_sentence.append((word, pos_tag))\n",
        "    return tagged_sentence\n",
        "# Example sentence for rule-based POS tagging\n",
        "sentence_to_tag = ['The', 'quick', 'brown', 'fox', 'is', 'lazy']\n",
        "# Perform rule-based POS tagging\n",
        "tagged_sentence = rule_based_pos_tagging(sentence_to_tag)\n",
        "# Display the results\n",
        "print(\"Original Sentence:\", sentence_to_tag)\n",
        "print(\"Rule-based POS Tagging Result:\", tagged_sentence)"
      ],
      "metadata": {
        "id": "Vre4XjjUrouS",
        "outputId": "29d14ea1-b396-438b-ed8d-b6a80cdb805c",
        "colab": {
          "base_uri": "https://localhost:8080/"
        }
      },
      "execution_count": null,
      "outputs": [
        {
          "output_type": "stream",
          "name": "stdout",
          "text": [
            "Original Sentence: ['The', 'quick', 'brown', 'fox', 'is', 'lazy']\n",
            "Rule-based POS Tagging Result: [('The', 'DET'), ('quick', 'ADJ'), ('brown', 'ADJ'), ('fox', 'NOUN'), ('is', 'VERB'), ('lazy', 'ADJ')]\n"
          ]
        }
      ]
    },
    {
      "cell_type": "markdown",
      "source": [
        "10. Implement transformation-based tagging using a set of transformation rules, apply a simple rule to tag words using python."
      ],
      "metadata": {
        "id": "5sS-XauwruCV"
      }
    },
    {
      "cell_type": "code",
      "source": [
        "import nltk\n",
        "nltk.download('punkt')\n",
        "# Sample sentence\n",
        "sentence = \"The quick brown fox jumps over the lazy dog\"\n",
        "\n",
        "# Tokenize the sentence into words\n",
        "words = nltk.word_tokenize(sentence)\n",
        "\n",
        "# Define a set of custom rules for POS tagging\n",
        "custom_rules = [\n",
        "    (r'.*ing$', 'VBG'),      # Gerunds (e.g., running)\n",
        "    (r'.*ed$', 'VBD'),       # Past tense verbs (e.g., jumped)\n",
        "    (r'^[A-Z].*$', 'NNP'),   # Proper nouns (e.g., London)\n",
        "    (r'.*', 'NN')            # Default: Nouns for all other words\n",
        "]\n",
        "\n",
        "# Create a RegexpTagger with the custom rules\n",
        "regexp_tagger = nltk.RegexpTagger(custom_rules)\n",
        "\n",
        "# Tag the words using the RegexpTagger\n",
        "tags = regexp_tagger.tag(words)\n",
        "\n",
        "# Display the tagged words\n",
        "print(tags)"
      ],
      "metadata": {
        "id": "NoBgxt1bsBc5",
        "outputId": "60bbe149-beec-481d-9eea-fb2d5e264f1d",
        "colab": {
          "base_uri": "https://localhost:8080/"
        }
      },
      "execution_count": null,
      "outputs": [
        {
          "output_type": "stream",
          "name": "stderr",
          "text": [
            "[nltk_data] Downloading package punkt to /root/nltk_data...\n",
            "[nltk_data]   Unzipping tokenizers/punkt.zip.\n"
          ]
        },
        {
          "output_type": "stream",
          "name": "stdout",
          "text": [
            "[('The', 'NNP'), ('quick', 'NN'), ('brown', 'NN'), ('fox', 'NN'), ('jumps', 'NN'), ('over', 'NN'), ('the', 'NN'), ('lazy', 'NN'), ('dog', 'NN')]\n"
          ]
        }
      ]
    },
    {
      "cell_type": "markdown",
      "source": [
        "11. Implement a simple top-down parser for context-free grammars using python.\n"
      ],
      "metadata": {
        "id": "bo1xbWF6J4rm"
      }
    },
    {
      "cell_type": "code",
      "source": [
        "class SimpleParser:\n",
        "    def __init__(self):\n",
        "        self.variables = {}\n",
        "\n",
        "    def parse(self, input_string):\n",
        "        self.input_string = input_string.split()\n",
        "        self.index = 0\n",
        "        self.current_token = None\n",
        "        self.next_token()\n",
        "        return self.statement()\n",
        "\n",
        "    def next_token(self):\n",
        "        if self.index < len(self.input_string):\n",
        "            self.current_token = self.input_string[self.index]\n",
        "            self.index += 1\n",
        "        else:\n",
        "            self.current_token = None\n",
        "\n",
        "    def match(self, token):\n",
        "        if self.current_token == token:\n",
        "            self.next_token()\n",
        "        else:\n",
        "            raise SyntaxError(\"Unexpected token: {}\".format(self.current_token))\n",
        "\n",
        "    def statement(self):\n",
        "        token = self.current_token\n",
        "        if token.isalpha():\n",
        "            var_name = token\n",
        "            self.next_token()\n",
        "            if self.current_token == '=':\n",
        "                self.next_token()\n",
        "                value = self.expr()\n",
        "                self.variables[var_name] = value\n",
        "                return value\n",
        "            else:\n",
        "                raise SyntaxError(\"Invalid statement: {}\".format(token))\n",
        "        else:\n",
        "            raise SyntaxError(\"Invalid statement: {}\".format(token))\n",
        "\n",
        "    def expr(self):\n",
        "        return self.term() + self.expr_tail()\n",
        "\n",
        "    def expr_tail(self):\n",
        "        if self.current_token in ('+', '-'):\n",
        "            op = self.current_token\n",
        "            self.next_token()\n",
        "            return op + self.term() + self.expr_tail()\n",
        "        else:\n",
        "            return ''\n",
        "\n",
        "    def term(self):\n",
        "        return self.factor() + self.term_tail()\n",
        "\n",
        "    def term_tail(self):\n",
        "        if self.current_token in ('*', '/'):\n",
        "            op = self.current_token\n",
        "            self.next_token()\n",
        "            return op + self.factor() + self.term_tail()\n",
        "        else:\n",
        "            return ''\n",
        "\n",
        "    def factor(self):\n",
        "        token = self.current_token\n",
        "        if token.isdigit():\n",
        "            self.next_token()\n",
        "            return token\n",
        "        elif token.isalpha():\n",
        "            if token in self.variables:\n",
        "                self.next_token()\n",
        "                return str(self.variables[token])\n",
        "            else:\n",
        "                raise SyntaxError(\"Undefined variable: {}\".format(token))\n",
        "        else:\n",
        "            raise SyntaxError(\"Invalid factor: {}\".format(token))\n",
        "\n",
        "\n",
        "# Example usage\n",
        "parser = SimpleParser()\n",
        "\n",
        "# Sample input\n",
        "input_program = \"\"\"\n",
        "x = 10\n",
        "y = 5\n",
        "result = x + y * 2\n",
        "\"\"\"\n",
        "\n",
        "# Parsing the input\n",
        "for line in input_program.split('\\n'):\n",
        "    if line.strip():\n",
        "        result = parser.parse(line.strip())\n",
        "        print(\"Parsed:\", line.strip(), \"->\", result)\n"
      ],
      "metadata": {
        "id": "Dh9SS_uoKRWQ",
        "outputId": "6620600d-5165-4825-dde5-27302048d71d",
        "colab": {
          "base_uri": "https://localhost:8080/"
        }
      },
      "execution_count": null,
      "outputs": [
        {
          "output_type": "stream",
          "name": "stdout",
          "text": [
            "Parsed: x = 10 -> 10\n",
            "Parsed: y = 5 -> 5\n",
            "Parsed: result = x + y * 2 -> 10+5*2\n"
          ]
        }
      ]
    },
    {
      "cell_type": "markdown",
      "source": [
        "12.Implement an Earley parser for context-free grammars using a simple python program"
      ],
      "metadata": {
        "id": "8JRDnfeS_qWW"
      }
    },
    {
      "cell_type": "code",
      "source": [
        "class EarleyItem:\n",
        "    def __init__(self, production, dot_position, start_column):\n",
        "        self.production = production\n",
        "        self.dot_position = dot_position\n",
        "        self.start_column = start_column\n",
        "\n",
        "def predict(grammar, column, item):\n",
        "    non_terminal = item.production[item.dot_position]\n",
        "    for rule in grammar.get(non_terminal, []):\n",
        "        new_item = EarleyItem(rule, 0, column)\n",
        "        if new_item not in column:\n",
        "            column.append(new_item)\n",
        "\n",
        "def scan(tokens, column, item):\n",
        "    if item.dot_position < len(tokens) and \\\n",
        "       item.production[item.dot_position] == tokens[column]:\n",
        "        new_item = EarleyItem(item.production, item.dot_position + 1, item.start_column)\n",
        "        if new_item not in column:\n",
        "            column.append(new_item)\n",
        "\n",
        "def complete(chart, column, item):\n",
        "    for entry in chart[item.start_column]:\n",
        "        if entry.dot_position < len(entry.production) and \\\n",
        "           entry.production[entry.dot_position] == item.production and \\\n",
        "           EarleyItem(entry.production, entry.dot_position + 1, entry.start_column) not in chart[column]:\n",
        "            chart[column].append(EarleyItem(entry.production, entry.dot_position + 1, entry.start_column))\n",
        "\n",
        "def earley_parse(tokens, grammar):\n",
        "    chart = {i: [] for i in range(len(tokens) + 1)}\n",
        "    start_rule = list(grammar.keys())[0]\n",
        "    chart[0].append(EarleyItem(start_rule, 0, 0))\n",
        "\n",
        "    for column in range(len(tokens) + 1):\n",
        "        for item in chart[column]:\n",
        "            if item.dot_position < len(item.production) and \\\n",
        "               isinstance(item.production[item.dot_position], str):\n",
        "                scan(tokens, column, item)\n",
        "            elif item.dot_position < len(item.production):\n",
        "                predict(grammar, chart[column], item)\n",
        "            else:\n",
        "                complete(chart, column, item)\n",
        "\n",
        "    for item in chart[len(tokens)]:\n",
        "        if item.production == [start_rule] and item.dot_position == 1 and item.start_column == 0:\n",
        "            return False\n",
        "\n",
        "    return True\n",
        "\n",
        "# Example usage:\n",
        "example_grammar = {\n",
        "    'S': [['NP', 'VP']],\n",
        "    'NP': [['Det', 'N']],\n",
        "    'VP': [['V', 'NP']],\n",
        "    'Det': ['the', 'a'],\n",
        "    'N': ['cat', 'dog'],\n",
        "    'V': ['chased', 'ate']\n",
        "}\n",
        "\n",
        "example_tokens = ['the', 'dog', 'chased', 'a', 'cat']\n",
        "\n",
        "result = earley_parse(example_tokens, example_grammar)\n",
        "print(\"Parsing successful:\", result)"
      ],
      "metadata": {
        "id": "ct9keFA-CgyI",
        "outputId": "2b7506f3-5a8a-4025-ea4c-20cd9f2efc88",
        "colab": {
          "base_uri": "https://localhost:8080/"
        }
      },
      "execution_count": 1,
      "outputs": [
        {
          "output_type": "stream",
          "name": "stdout",
          "text": [
            "Parsing successful: True\n"
          ]
        }
      ]
    },
    {
      "cell_type": "markdown",
      "source": [
        "13.Generate a parse tree for a given sentence using a context-free grammar using python program."
      ],
      "metadata": {
        "id": "U4z9dl-iC2Mg"
      }
    },
    {
      "cell_type": "code",
      "source": [
        "import nltk\n",
        "from nltk import CFG\n",
        "\n",
        "# Define a context-free grammar\n",
        "grammar = CFG.fromstring(\"\"\"\n",
        "    S -> NP VP\n",
        "    NP -> 'John'\n",
        "    VP -> V NP\n",
        "    V -> 'likes'\n",
        "    NP -> 'pizza'\n",
        "\"\"\")\n",
        "\n",
        "# Create a parser based on the grammar\n",
        "parser = nltk.ChartParser(grammar)\n",
        "\n",
        "# Given sentence\n",
        "sentence = \"John likes pizza\"\n",
        "\n",
        "# Tokenize the sentence\n",
        "tokens = sentence.split()\n",
        "\n",
        "# Generate and print parse trees\n",
        "for tree in parser.parse(tokens):\n",
        "    tree.pretty_print()"
      ],
      "metadata": {
        "id": "xn-mAgOjC5k6",
        "outputId": "0c116368-64d6-4256-aa30-cbf389193180",
        "colab": {
          "base_uri": "https://localhost:8080/"
        }
      },
      "execution_count": 2,
      "outputs": [
        {
          "output_type": "stream",
          "name": "stdout",
          "text": [
            "       S            \n",
            "  _____|____         \n",
            " |          VP      \n",
            " |      ____|____    \n",
            " NP    V         NP \n",
            " |     |         |   \n",
            "John likes     pizza\n",
            "\n"
          ]
        }
      ]
    },
    {
      "cell_type": "markdown",
      "source": [
        "14.Create a program in python to check for agreement in sentences based on a context-free grammar's rules"
      ],
      "metadata": {
        "id": "it17wvrpDA3q"
      }
    },
    {
      "cell_type": "code",
      "source": [
        "class AgreementChecker:\n",
        "    def __init__(self, grammar):\n",
        "        self.grammar = grammar\n",
        "\n",
        "    def check_subject_verb_agreement(self, subject, verb):\n",
        "        rules = self.grammar.get(\"S-V Agreement\", [])\n",
        "        for rule in rules:\n",
        "            if rule[0] == subject and rule[1] == verb:\n",
        "                return True\n",
        "        return False\n",
        "\n",
        "grammar = {\n",
        "    \"S-V Agreement\": [\n",
        "        [\"dog\", \"barks\"],\n",
        "        [\"dogs\", \"bark\"],\n",
        "        [\"cat\", \"meows\"],\n",
        "        [\"cats\", \"meow\"]\n",
        "\n",
        "    ]\n",
        "}\n",
        "\n",
        "agreement_checker = AgreementChecker(grammar)\n",
        "\n",
        "subject = \"dog\"\n",
        "verb = \"barks\"\n",
        "is_agree = agreement_checker.check_subject_verb_agreement(subject, verb)\n",
        "\n",
        "if is_agree:\n",
        "    print(f\"The subject '{subject}' and verb '{verb}' agree.\")\n",
        "else:\n",
        "    print(f\"The subject '{subject}' and verb '{verb}' do not agree.\")\n",
        ""
      ],
      "metadata": {
        "id": "3CvejmhADEaE",
        "outputId": "57b0d039-777b-4b88-cc50-aeb4e13fb3c5",
        "colab": {
          "base_uri": "https://localhost:8080/"
        }
      },
      "execution_count": 3,
      "outputs": [
        {
          "output_type": "stream",
          "name": "stdout",
          "text": [
            "The subject 'dog' and verb 'barks' agree.\n"
          ]
        }
      ]
    },
    {
      "cell_type": "markdown",
      "source": [
        "15. Implement probabilistic context-free grammar parsing for a sentence using python"
      ],
      "metadata": {
        "id": "N3xds5Y1DMPT"
      }
    },
    {
      "cell_type": "code",
      "source": [
        "import nltk\n",
        "grammar = nltk.PCFG.fromstring(\"\"\"\n",
        "    S -> NP VP [1.0]\n",
        "    VP -> V NP [0.7] | VP PP [0.3]\n",
        "    PP -> P NP [1.0]\n",
        "    V -> \"saw\" [1.0]\n",
        "    P -> \"with\" [1.0]\n",
        "    NP -> N [0.4] | Det N [0.3] | NP PP [0.3]\n",
        "    N -> \"John\" [0.4] | \"Mary\" [0.4] | \"telescope\" [0.2]\n",
        "    Det -> \"a\" [1.0]\n",
        "\"\"\")\n",
        "parser = nltk.ViterbiParser(grammar)\n",
        "\n",
        "sentence = \"John saw Mary with a telescope\".split()\n",
        "\n",
        "trees = list(parser.parse(sentence))\n",
        "\n",
        "trees.sort(key=lambda tree: -tree.prob())\n",
        "\n",
        "for tree in trees:\n",
        "    print(tree)"
      ],
      "metadata": {
        "id": "RMkg4l0HDPOD",
        "outputId": "4085b804-b34c-46b4-cc72-5b71c908503d",
        "colab": {
          "base_uri": "https://localhost:8080/"
        }
      },
      "execution_count": 4,
      "outputs": [
        {
          "output_type": "stream",
          "name": "stdout",
          "text": [
            "(S\n",
            "  (NP (N John))\n",
            "  (VP\n",
            "    (VP (V saw) (NP (N Mary)))\n",
            "    (PP (P with) (NP (Det a) (N telescope))))) (p=0.00032256)\n"
          ]
        }
      ]
    },
    {
      "cell_type": "markdown",
      "source": [
        "16.Implement a Python program using the SpaCy library to perform Named Entity Recognition (NER) on a given text?"
      ],
      "metadata": {
        "id": "EULbMWgvDUX2"
      }
    },
    {
      "cell_type": "code",
      "source": [
        "import spacy\n",
        "\n",
        "nlp = spacy.load(\"en_core_web_sm\")\n",
        "\n",
        "text = \"Apple is looking at buying U.K. startup for $1 billion\"\n",
        "\n",
        "doc = nlp(text)\n",
        "\n",
        "for ent in doc.ents:\n",
        "    print(f\"Entity: {ent.text}, Type: {ent.label_}\")"
      ],
      "metadata": {
        "id": "kcFJszW_Dfbo",
        "outputId": "4c7aede8-0c1b-4861-e5f9-af380fecd99a",
        "colab": {
          "base_uri": "https://localhost:8080/"
        }
      },
      "execution_count": 5,
      "outputs": [
        {
          "output_type": "stream",
          "name": "stdout",
          "text": [
            "Entity: Apple, Type: ORG\n",
            "Entity: U.K., Type: GPE\n",
            "Entity: $1 billion, Type: MONEY\n"
          ]
        }
      ]
    },
    {
      "cell_type": "markdown",
      "source": [
        "17.Write program demonstrates how to access WordNet, a lexical database, to retrieve synsets and explore word meanings in python"
      ],
      "metadata": {
        "id": "vPpF_BAxD2nl"
      }
    },
    {
      "cell_type": "code",
      "source": [
        "import nltk\n",
        "from nltk.corpus import wordnet\n",
        "\n",
        "# Download WordNet data\n",
        "nltk.download('wordnet')\n",
        "\n",
        "def get_synsets(word):\n",
        "    synsets = wordnet.synsets(word)\n",
        "    return synsets\n",
        "\n",
        "def print_synset_info(synset):\n",
        "    print(f\"Synset: {synset.name()}\")\n",
        "    print(f\"POS (Part of Speech): {synset.pos()}\")\n",
        "    print(f\"Definition: {synset.definition()}\")\n",
        "    print(f\"Examples: {synset.examples()}\")\n",
        "    print()\n",
        "\n",
        "def explore_word_meanings(word):\n",
        "    synsets = get_synsets(word)\n",
        "\n",
        "    if not synsets:\n",
        "        print(f\"No synsets found for the word '{word}'.\")\n",
        "        return\n",
        "\n",
        "    print(f\"Synsets for the word '{word}':\")\n",
        "    for synset in synsets:\n",
        "        print_synset_info(synset)\n",
        "\n",
        "    # Explore hypernyms (more abstract terms)\n",
        "    hypernyms = synsets[0].hypernyms()\n",
        "    if hypernyms:\n",
        "        print(f\"Hypernyms of '{word}':\")\n",
        "        for hypernym in hypernyms:\n",
        "            print_synset_info(hypernym)\n",
        "\n",
        "    # Explore hyponyms (more specific terms)\n",
        "    hyponyms = synsets[0].hyponyms()\n",
        "    if hyponyms:\n",
        "        print(f\"Hyponyms of '{word}':\")\n",
        "        for hyponym in hyponyms:\n",
        "            print_synset_info(hyponym)\n",
        "\n",
        "if __name__ == \"__main__\":\n",
        "    # Replace 'example' with the word you want to explore\n",
        "    word_to_explore = 'example'\n",
        "    explore_word_meanings(word_to_explore)"
      ],
      "metadata": {
        "id": "yZaEr_RfD5gs",
        "outputId": "abfa6733-2991-4ef0-e1be-4faa2e448f20",
        "colab": {
          "base_uri": "https://localhost:8080/"
        }
      },
      "execution_count": 6,
      "outputs": [
        {
          "output_type": "stream",
          "name": "stderr",
          "text": [
            "[nltk_data] Downloading package wordnet to /root/nltk_data...\n"
          ]
        },
        {
          "output_type": "stream",
          "name": "stdout",
          "text": [
            "Synsets for the word 'example':\n",
            "Synset: example.n.01\n",
            "POS (Part of Speech): n\n",
            "Definition: an item of information that is typical of a class or group\n",
            "Examples: ['this patient provides a typical example of the syndrome', 'there is an example on page 10']\n",
            "\n",
            "Synset: model.n.07\n",
            "POS (Part of Speech): n\n",
            "Definition: a representative form or pattern\n",
            "Examples: ['I profited from his example']\n",
            "\n",
            "Synset: exemplar.n.01\n",
            "POS (Part of Speech): n\n",
            "Definition: something to be imitated\n",
            "Examples: ['an exemplar of success', 'a model of clarity', 'he is the very model of a modern major general']\n",
            "\n",
            "Synset: example.n.04\n",
            "POS (Part of Speech): n\n",
            "Definition: punishment intended as a warning to others\n",
            "Examples: ['they decided to make an example of him']\n",
            "\n",
            "Synset: case.n.01\n",
            "POS (Part of Speech): n\n",
            "Definition: an occurrence of something\n",
            "Examples: ['it was a case of bad judgment', 'another instance occurred yesterday', 'but there is always the famous example of the Smiths']\n",
            "\n",
            "Synset: exercise.n.04\n",
            "POS (Part of Speech): n\n",
            "Definition: a task performed or problem solved in order to develop skill or understanding\n",
            "Examples: ['you must work the examples at the end of each chapter in the textbook']\n",
            "\n",
            "Hypernyms of 'example':\n",
            "Synset: information.n.02\n",
            "POS (Part of Speech): n\n",
            "Definition: knowledge acquired through study or experience or instruction\n",
            "Examples: []\n",
            "\n",
            "Hyponyms of 'example':\n",
            "Synset: apology.n.03\n",
            "POS (Part of Speech): n\n",
            "Definition: a poor example\n",
            "Examples: ['it was an apology for a meal', 'a poor excuse for an automobile']\n",
            "\n",
            "Synset: exception.n.02\n",
            "POS (Part of Speech): n\n",
            "Definition: an instance that does not conform to a rule or generalization\n",
            "Examples: ['all her children were brilliant; the only exception was her last child', 'an exception tests the rule']\n",
            "\n",
            "Synset: precedent.n.01\n",
            "POS (Part of Speech): n\n",
            "Definition: an example that is used to justify similar occurrences at a later time\n",
            "Examples: []\n",
            "\n",
            "Synset: quintessence.n.03\n",
            "POS (Part of Speech): n\n",
            "Definition: the most typical example or representative of a type\n",
            "Examples: []\n",
            "\n",
            "Synset: sample.n.01\n",
            "POS (Part of Speech): n\n",
            "Definition: a small part of something intended as representative of the whole\n",
            "Examples: []\n",
            "\n",
            "Synset: specimen.n.01\n",
            "POS (Part of Speech): n\n",
            "Definition: an example regarded as typical of its class\n",
            "Examples: []\n",
            "\n"
          ]
        }
      ]
    },
    {
      "cell_type": "markdown",
      "source": [
        "18.Implement a simple FOPC parser for basic logical expressions using python program"
      ],
      "metadata": {
        "id": "0o9nOFbmEGQQ"
      }
    },
    {
      "cell_type": "code",
      "source": [
        "from pyparsing import Word, alphas, alphanums, Forward, infixNotation, opAssoc\n",
        "\n",
        "identifier = Word(alphas, alphanums+\"_\")\n",
        "\n",
        "and_op = \"AND\"\n",
        "or_op = \"OR\"\n",
        "implies_op = \"IMPLIES\"\n",
        "not_op = \"NOT\"\n",
        "\n",
        "expr = Forward()\n",
        "atom = identifier | \"(\" + expr + \")\"\n",
        "term = infixNotation(atom, [\n",
        "    (not_op, 1, opAssoc.RIGHT),\n",
        "    (and_op, 2, opAssoc.LEFT),\n",
        "    (or_op, 2, opAssoc.LEFT),\n",
        "    (implies_op, 2, opAssoc.RIGHT),\n",
        "])\n",
        "\n",
        "def parse_expression(expression):\n",
        "    return term.parseString(expression, parseAll=True)\n",
        "\n",
        "logical_expression = \"P AND (Q OR NOT R) IMPLIES S\"\n",
        "parsed_expr = parse_expression(logical_expression)\n",
        "print(parsed_expr)"
      ],
      "metadata": {
        "id": "2pyKonKaEUdB",
        "outputId": "7bf2ce63-6116-4de1-aa4e-ec7893893788",
        "colab": {
          "base_uri": "https://localhost:8080/"
        }
      },
      "execution_count": 7,
      "outputs": [
        {
          "output_type": "stream",
          "name": "stdout",
          "text": [
            "[[['P', 'AND', ['Q', 'OR', ['NOT', 'R']]], 'IMPLIES', 'S']]\n"
          ]
        }
      ]
    },
    {
      "cell_type": "markdown",
      "source": [
        "19.Create a program for word sense disambiguation using the Lesk algorithm using python"
      ],
      "metadata": {
        "id": "w0rGr3V6EZ6-"
      }
    },
    {
      "cell_type": "code",
      "source": [
        "from nltk.wsd import lesk\n",
        "from nltk.tokenize import word_tokenize\n",
        "import nltk\n",
        "nltk.download('punkt')\n",
        "\n",
        "# Download WordNet data\n",
        "nltk.download('wordnet')\n",
        "\n",
        "def perform_lesk_algorithm(sentence, target_word):\n",
        "    sense = lesk(word_tokenize(sentence), target_word)\n",
        "\n",
        "    if sense:\n",
        "        print(f\"Target word: {target_word}\")\n",
        "        print(f\"Selected sense: {sense.name()}\")\n",
        "        print(f\"Definition: {sense.definition()}\")\n",
        "        print(f\"Examples: {sense.examples()}\")\n",
        "    else:\n",
        "        print(f\"No sense found for the word '{target_word}' in the given context.\")\n",
        "\n",
        "if __name__ == \"__main__\":\n",
        "    input_sentence = \"I went to the bank to deposit some money.\"\n",
        "    target_word = \"bank\"\n",
        "\n",
        "    perform_lesk_algorithm(input_sentence, target_word)"
      ],
      "metadata": {
        "id": "NwXwz3SREchJ",
        "outputId": "baf84d52-411e-4f16-c194-7550106b5f7b",
        "colab": {
          "base_uri": "https://localhost:8080/"
        }
      },
      "execution_count": 8,
      "outputs": [
        {
          "output_type": "stream",
          "name": "stderr",
          "text": [
            "[nltk_data] Downloading package punkt to /root/nltk_data...\n",
            "[nltk_data]   Unzipping tokenizers/punkt.zip.\n"
          ]
        },
        {
          "output_type": "stream",
          "name": "stdout",
          "text": [
            "Target word: bank\n",
            "Selected sense: savings_bank.n.02\n",
            "Definition: a container (usually with a slot in the top) for keeping money at home\n",
            "Examples: ['the coin bank was empty']\n"
          ]
        },
        {
          "output_type": "stream",
          "name": "stderr",
          "text": [
            "[nltk_data] Downloading package wordnet to /root/nltk_data...\n",
            "[nltk_data]   Package wordnet is already up-to-date!\n"
          ]
        }
      ]
    },
    {
      "cell_type": "markdown",
      "source": [
        "20.Implement a basic information retrieval system using TF-IDF (Term Frequency-Inverse Document Frequency) for document ranking using python"
      ],
      "metadata": {
        "id": "gR6XOrBeEhTr"
      }
    },
    {
      "cell_type": "code",
      "source": [
        "from sklearn.feature_extraction.text import TfidfVectorizer\n",
        "from sklearn.metrics.pairwise import cosine_similarity\n",
        "\n",
        "documents = [\n",
        "    \"This is the first document.\",\n",
        "    \"This document is the second document.\",\n",
        "    \"And this is the third one.\",\n",
        "    \"Is this the first document?\",\n",
        "]\n",
        "\n",
        "vectorizer = TfidfVectorizer()\n",
        "\n",
        "tfidf_matrix = vectorizer.fit_transform(documents)\n",
        "\n",
        "query = \"this is the second document\"\n",
        "\n",
        "query_vector = vectorizer.transform([query])\n",
        "\n",
        "cosine_similarities = cosine_similarity(query_vector, tfidf_matrix).flatten()\n",
        "\n",
        "document_scores = [(score, doc) for score, doc in zip(cosine_similarities, documents)]\n",
        "sorted_documents = sorted(document_scores, key=lambda x: x[0], reverse=True)\n",
        "\n",
        "print(\"Ranked documents based on TF-IDF similarity to the query:\")\n",
        "for i, (score, doc) in enumerate(sorted_documents, start=1):\n",
        "    print(f\"Rank {i}: Similarity Score: {score:.4f}, Document: '{doc}'\")"
      ],
      "metadata": {
        "id": "8J5c0fAyEkjl",
        "outputId": "53692cca-bde9-4517-c18b-6e770eca00ac",
        "colab": {
          "base_uri": "https://localhost:8080/"
        }
      },
      "execution_count": 9,
      "outputs": [
        {
          "output_type": "stream",
          "name": "stdout",
          "text": [
            "Ranked documents based on TF-IDF similarity to the query:\n",
            "Rank 1: Similarity Score: 0.9505, Document: 'This document is the second document.'\n",
            "Rank 2: Similarity Score: 0.6042, Document: 'This is the first document.'\n",
            "Rank 3: Similarity Score: 0.6042, Document: 'Is this the first document?'\n",
            "Rank 4: Similarity Score: 0.2804, Document: 'And this is the third one.'\n"
          ]
        }
      ]
    },
    {
      "cell_type": "markdown",
      "source": [
        "21.Create a python program that performs syntax-driven semantic analysis by extracting noun phrases and their meanings from a sentence"
      ],
      "metadata": {
        "id": "irul2nPbEtl7"
      }
    },
    {
      "cell_type": "code",
      "source": [
        "import spacy\n",
        "\n",
        "# Load the English language model from spaCy\n",
        "nlp = spacy.load(\"en_core_web_sm\")\n",
        "def syntax_semantic_analysis(sentence):\n",
        "    # Process the input sentence using spaCy\n",
        "    doc = nlp(sentence)\n",
        "    # Extract noun phrases and their meanings\n",
        "    noun_phrases_and_meanings = []\n",
        "    for chunk in doc.noun_chunks:\n",
        "        # Get the head (main word) of the noun phrase\n",
        "        head_word = chunk.root.text\n",
        "\n",
        "        # Extract the meaning (definition) of the head word\n",
        "        head_meaning = get_word_meaning(head_word)\n",
        "\n",
        "        # Store the noun phrase and its meaning\n",
        "        noun_phrases_and_meanings.append({\n",
        "            'noun_phrase': chunk.text,\n",
        "            'meaning': head_meaning\n",
        "        })\n",
        "\n",
        "    return noun_phrases_and_meanings\n",
        "def get_word_meaning(word):\n",
        "    # Placeholder function to get the meaning of a word\n",
        "    # In a real-world scenario, you would use a lexical database or an API\n",
        "    # For simplicity, we'll return a dummy meaning here\n",
        "    return f\"Dummy meaning for {word}\"\n",
        "\n",
        "# Example usage\n",
        "sentence = \"The quick brown fox jumps over the lazy dog.\"\n",
        "results = syntax_semantic_analysis(sentence)\n",
        "\n",
        "# Display the results\n",
        "for result in results:\n",
        "    print(f\"Noun Phrase: {result['noun_phrase']}, Meaning: {result['meaning']}\")\n",
        ""
      ],
      "metadata": {
        "id": "0y7AjqnEEwJI",
        "outputId": "cf239a5a-3e26-45d0-9081-32b59a81177c",
        "colab": {
          "base_uri": "https://localhost:8080/"
        }
      },
      "execution_count": 10,
      "outputs": [
        {
          "output_type": "stream",
          "name": "stdout",
          "text": [
            "Noun Phrase: The quick brown fox, Meaning: Dummy meaning for fox\n",
            "Noun Phrase: the lazy dog, Meaning: Dummy meaning for dog\n"
          ]
        }
      ]
    },
    {
      "cell_type": "markdown",
      "source": [
        "22.Create a python program that performs reference resolution within a text."
      ],
      "metadata": {
        "id": "P60hwV3rFCPJ"
      }
    },
    {
      "cell_type": "code",
      "source": [
        "import nltk\n",
        "nltk.download('averaged_perceptron_tagger')\n",
        "\n",
        "def resolve_references(text):\n",
        "    sentences = nltk.sent_tokenize(text)\n",
        "    tokenized_sentences = [nltk.word_tokenize(sentence) for sentence in sentences]\n",
        "    tagged_sentences = [nltk.pos_tag(sentence) for sentence in tokenized_sentences]\n",
        "\n",
        "    resolved_text = []\n",
        "    pronouns = set(['he', 'him', 'his', 'she', 'her', 'it', 'they', 'them', 'their'])\n",
        "\n",
        "    for tagged_sentence in tagged_sentences:\n",
        "        resolved_sentence = []\n",
        "        for word, pos in tagged_sentence:\n",
        "            if word.lower() in pronouns and len(resolved_sentence) > 0:\n",
        "                antecedent = resolved_sentence[-1]\n",
        "                resolved_sentence.append(f'({word} -> {antecedent})')\n",
        "            else:\n",
        "                resolved_sentence.append(word)\n",
        "        resolved_text.append(' '.join(resolved_sentence))\n",
        "\n",
        "    return ' '.join(resolved_text)\n",
        "\n",
        "text = \"John went to the market and He bought some fruits.\"\n",
        "\n",
        "resolved_text = resolve_references(text)\n",
        "print(resolved_text)"
      ],
      "metadata": {
        "id": "rtrjxNicFF04",
        "outputId": "75fd01ad-5ab0-44bf-a565-0d89e0ac4a7e",
        "colab": {
          "base_uri": "https://localhost:8080/"
        }
      },
      "execution_count": 11,
      "outputs": [
        {
          "output_type": "stream",
          "name": "stderr",
          "text": [
            "[nltk_data] Downloading package averaged_perceptron_tagger to\n",
            "[nltk_data]     /root/nltk_data...\n",
            "[nltk_data]   Unzipping taggers/averaged_perceptron_tagger.zip.\n"
          ]
        },
        {
          "output_type": "stream",
          "name": "stdout",
          "text": [
            "John went to the market and (He -> and) bought some fruits .\n"
          ]
        }
      ]
    },
    {
      "cell_type": "markdown",
      "source": [
        "23 Develop a python program that evaluates the coherence of a given text"
      ],
      "metadata": {
        "id": "xTHU8AX_FQIv"
      }
    },
    {
      "cell_type": "code",
      "source": [
        "import nltk\n",
        "\n",
        "def calculate_coherence(text):\n",
        "    sentences = nltk.sent_tokenize(text)\n",
        "    coherence_markers = ['however', 'therefore', 'consequently', 'nevertheless', 'furthermore', 'meanwhile', 'although', 'while', 'yet', 'moreover']\n",
        "\n",
        "    total_markers = 0\n",
        "    for sentence in sentences:\n",
        "        tokenized_sentence = nltk.word_tokenize(sentence.lower())\n",
        "        for marker in coherence_markers:\n",
        "            if marker in tokenized_sentence:\n",
        "                total_markers += 1\n",
        "\n",
        "    return total_markers\n",
        "\n",
        "text = \"The weather was terrible. However, they decided to go for a picnic. Therefore, they packed their bags and left.\"\n",
        "\n",
        "coherence_score = calculate_coherence(text)\n",
        "print(f\"Coherence Score: {coherence_score}\")"
      ],
      "metadata": {
        "id": "9gYQ6zMsFQ2v",
        "outputId": "f51def75-ac1f-472b-b6c7-a8de61c9a4c6",
        "colab": {
          "base_uri": "https://localhost:8080/"
        }
      },
      "execution_count": 12,
      "outputs": [
        {
          "output_type": "stream",
          "name": "stdout",
          "text": [
            "Coherence Score: 2\n"
          ]
        }
      ]
    },
    {
      "cell_type": "markdown",
      "source": [
        "24.Create a python program that recognizes dialog acts in a given dialog or conversation."
      ],
      "metadata": {
        "id": "KpWfC31oFWdq"
      }
    },
    {
      "cell_type": "code",
      "source": [
        "import re\n",
        "\n",
        "def recognize_dialog_acts(text):\n",
        "\n",
        "    statements = re.compile(r'^[^?!.]*[.?!]$')\n",
        "    questions = re.compile(r'.*\\?$')\n",
        "    greetings = re.compile(r'(hello|hi|hey).*', re.IGNORECASE)\n",
        "    requests = re.compile(r'(please|can you|could you).*', re.IGNORECASE)\n",
        "\n",
        "    utterances = re.split(r'[.?!]', text)\n",
        "\n",
        "    dialog_acts = []\n",
        "    for utterance in utterances:\n",
        "        utterance = utterance.strip()\n",
        "        if re.match(statements, utterance):\n",
        "            dialog_acts.append((utterance, 'Statement'))\n",
        "        elif re.match(questions, utterance):\n",
        "            dialog_acts.append((utterance, 'Question'))\n",
        "        elif re.match(greetings, utterance):\n",
        "            dialog_acts.append((utterance, 'Greeting'))\n",
        "        elif re.match(requests, utterance):\n",
        "            dialog_acts.append((utterance, 'Request'))\n",
        "        else:\n",
        "            dialog_acts.append((utterance, 'Other'))\n",
        "\n",
        "    return dialog_acts\n",
        "\n",
        "conversation = \"Hi! How are you? I'm fine, thank you. Can you pass the salt, please?\"\n",
        "\n",
        "recognized_acts = recognize_dialog_acts(conversation)\n",
        "for utterance, act_type in recognized_acts:\n",
        "    print(f\"Utterance: '{utterance}', Dialog Act: {act_type}\")"
      ],
      "metadata": {
        "id": "o-it4UBpFZ8L",
        "outputId": "06908b38-e542-4e98-ceca-691a47c8487e",
        "colab": {
          "base_uri": "https://localhost:8080/"
        }
      },
      "execution_count": 13,
      "outputs": [
        {
          "output_type": "stream",
          "name": "stdout",
          "text": [
            "Utterance: 'Hi', Dialog Act: Greeting\n",
            "Utterance: 'How are you', Dialog Act: Other\n",
            "Utterance: 'I'm fine, thank you', Dialog Act: Other\n",
            "Utterance: 'Can you pass the salt, please', Dialog Act: Request\n",
            "Utterance: '', Dialog Act: Other\n"
          ]
        }
      ]
    },
    {
      "cell_type": "markdown",
      "source": [
        "25.Utilize the GPT-3 model to generate text based on a given prompt. Make sure to install the OpenAI GPT-3 library in python implementation"
      ],
      "metadata": {
        "id": "9IhkIF_SFffo"
      }
    },
    {
      "cell_type": "code",
      "source": [],
      "metadata": {
        "id": "eDhQC6PAFl1h"
      },
      "execution_count": null,
      "outputs": []
    },
    {
      "cell_type": "markdown",
      "source": [],
      "metadata": {
        "id": "YlYDUs3uKQ9z"
      }
    }
  ]
}